{
 "cells": [
  {
   "cell_type": "markdown",
   "metadata": {},
   "source": [
    "## Parameters"
   ]
  },
  {
   "cell_type": "code",
   "execution_count": 1,
   "metadata": {},
   "outputs": [],
   "source": [
    "dataset_folder = \"D:\\\\Program\\\\Apollo\\\\instance\"\n",
    "model_name = \"train_box_keypoint_origin_dataset\"\n",
    "output_folder = \"./results/\" + model_name\n",
    "log_folder = output_folder + \"/log/log.txt\""
   ]
  },
  {
   "cell_type": "markdown",
   "metadata": {},
   "source": [
    "## Setup Dataset"
   ]
  },
  {
   "cell_type": "code",
   "execution_count": 2,
   "metadata": {},
   "outputs": [],
   "source": [
    "import json\n",
    "from detectron2.data import MetadataCatalog\n",
    "from detectron2.data.datasets import register_coco_instances\n",
    "\n",
    "register_coco_instances(\"apollo_train\", {}, dataset_folder + \"/annotations/apollo_keypoints_66_train.json\", dataset_folder +  \"/images/train\")\n",
    "register_coco_instances(\"apollo_val\", {}, dataset_folder + \"/annotations/apollo_keypoints_66_val.json\", dataset_folder + \"/images/val\")\n",
    "\n",
    "with open(\"./configs/apollo_meta.json\",'r') as load_f:\n",
    "    apollo_metadata = json.load(load_f)\n",
    "\n",
    "MetadataCatalog.get(\"apollo_train\").keypoint_names = apollo_metadata['APOLLO_CAR_KEYPOINT_NAMES']\n",
    "MetadataCatalog.get(\"apollo_train\").keypoint_flip_map = apollo_metadata['APOLLO_CAR_KEYPOINT_FLIP_MAP']\n",
    "MetadataCatalog.get(\"apollo_train\").keypoint_connection_rules = apollo_metadata['APOLLO_CAR_KEYPOINT_CONNECTION_RULES']\n",
    "MetadataCatalog.get(\"apollo_train\").thing_classes = ['car']\n",
    "MetadataCatalog.get(\"apollo_val\").keypoint_names = apollo_metadata['APOLLO_CAR_KEYPOINT_NAMES']\n",
    "MetadataCatalog.get(\"apollo_val\").keypoint_flip_map = apollo_metadata['APOLLO_CAR_KEYPOINT_FLIP_MAP']\n",
    "MetadataCatalog.get(\"apollo_val\").keypoint_connection_rules = apollo_metadata['APOLLO_CAR_KEYPOINT_CONNECTION_RULES']\n",
    "MetadataCatalog.get(\"apollo_val\").thing_classes = ['car']"
   ]
  },
  {
   "cell_type": "markdown",
   "metadata": {},
   "source": [
    "## Training"
   ]
  },
  {
   "cell_type": "code",
   "execution_count": null,
   "metadata": {},
   "outputs": [],
   "source": [
    "from detectron2.utils.logger import setup_logger\n",
    "setup_logger(\"log_folder\")\n",
    "\n",
    "register_coco_instances(\"apollo_train\", {}, \"./datasets/apollo/annotations/apollo_keypoints_66_train.json\", \"./datasets/apollo/images/train\")\n",
    "register_coco_instances(\"apollo_val\", {}, \"./datasets/apollo/annotations/apollo_keypoints_66_val.json\", \"./datasets/apollo/images/val\")\n",
    "\n",
    "MetadataCatalog.get(\"apollo_train\").keypoint_names = APOLLO_CAR_KEYPOINT_NAMES\n",
    "MetadataCatalog.get(\"apollo_train\").keypoint_flip_map = APOLLO_CAR_KEYPOINT_FLIP_MAP\n",
    "MetadataCatalog.get(\"apollo_train\").keypoint_connection_rules = APOLLO_CAR_KEYPOINT_CONNECTION_RULES\n",
    "MetadataCatalog.get(\"apollo_val\").keypoint_names = APOLLO_CAR_KEYPOINT_NAMES\n",
    "MetadataCatalog.get(\"apollo_val\").keypoint_flip_map = APOLLO_CAR_KEYPOINT_FLIP_MAP\n",
    "MetadataCatalog.get(\"apollo_val\").keypoint_connection_rules = APOLLO_CAR_KEYPOINT_CONNECTION_RULES\n",
    "\n",
    "cfg = get_cfg()\n",
    "cfg.merge_from_file(\"./configs/Apollo-Keypoints/keypoint_rcnn_R_50_FPN_3x.yaml\")\n",
    "cfg.OUTPUT_DIR = \"./train_box_keypoint_origin_dataset\"\n",
    "\n",
    "from detectron2.utils.file_io import PathManager\n",
    "with PathManager.open(\"./train_box_keypoint_origin_dataset/config.yaml\", \"w\") as f:\n",
    "    f.write(cfg.dump())"
   ]
  },
  {
   "cell_type": "code",
   "execution_count": null,
   "metadata": {},
   "outputs": [],
   "source": [
    "trainer = DefaultTrainer(cfg)\n",
    "trainer.resume_or_load()\n",
    "trainer.train()"
   ]
  }
 ],
 "metadata": {
  "kernelspec": {
   "display_name": "waterlevel",
   "language": "python",
   "name": "python3"
  },
  "language_info": {
   "codemirror_mode": {
    "name": "ipython",
    "version": 3
   },
   "file_extension": ".py",
   "mimetype": "text/x-python",
   "name": "python",
   "nbconvert_exporter": "python",
   "pygments_lexer": "ipython3",
   "version": "3.8.13"
  },
  "orig_nbformat": 4
 },
 "nbformat": 4,
 "nbformat_minor": 2
}
