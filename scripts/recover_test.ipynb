{
 "cells": [
  {
   "cell_type": "code",
   "execution_count": null,
   "metadata": {},
   "outputs": [],
   "source": [
    "import json\n",
    "import pyrender\n",
    "import trimesh\n",
    "import pickle\n",
    "import matplotlib.pyplot as plt\n",
    "import numpy as np\n",
    "import math\n",
    "from PIL import Image, ImageDraw\n",
    "from car_models import car_id2name, car_name2id\n",
    "import cv2\n",
    "import os\n",
    "import sys\n",
    "sys.path.append(\"../wlevel_estimator/\")\n",
    "\n",
    "fx=2304.54786556982\n",
    "fy=2305.875668062\n",
    "cx=1686.23787612802\n",
    "cy=1354.98486439791\n",
    "\n",
    "camera_matrix = np.array([[fx, 0,  cx],\n",
    "                          [0,  fy, cy],\n",
    "                          [0,  0,  1 ]], dtype=np.float32)\n",
    "\n",
    "dist_coeffs = np.zeros((1,4))"
   ]
  },
  {
   "cell_type": "code",
   "execution_count": null,
   "metadata": {},
   "outputs": [],
   "source": [
    "base_name = \"171206_034625454_Camera_5\"\n",
    "the_car_id = 0\n",
    "\n",
    "image_path = \"D:\\\\Program\\\\Apollo\\\\instance\\\\train\\\\images\\\\\"\n",
    "pose_path = \"D:\\\\Program\\\\Apollo\\\\instance\\\\train\\\\car_poses\\\\\"\n",
    "\n",
    "pil_image = Image.open(image_path+base_name+\".jpg\")\n",
    "width, height = pil_image.size\n",
    "np_image = np.array(pil_image)\n",
    "\n",
    "with open(pose_path+the_file_name,\"r\") as file:\n",
    "    car_poses = json.load(file)\n",
    "\n",
    "car_pose = car_poses[the_car_id]\n",
    "id = car_pose['car_id']\n",
    "car_name = car_id2name[id].name\n",
    "roll,pitch,yaw,x,y,z = car_pose['pose']\n",
    "\n",
    "with open(\"../car_models_json/\"+car_name+\".json\",\"r\") as file:\n",
    "    car_model = json.load(file)\n",
    "    vertices = car_model['vertices']\n",
    "    faces_array = np.array(car_model['faces']) - 1\n",
    "    faces = faces_array.tolist()"
   ]
  },
  {
   "cell_type": "code",
   "execution_count": null,
   "metadata": {},
   "outputs": [],
   "source": [
    "def eulerAnglesToRotationMatrix(theta) :\n",
    "    R_x = np.array([[1,         0,                  0                   ],\n",
    "                    [0,         math.cos(theta[0]), -math.sin(theta[0]) ],\n",
    "                    [0,         math.sin(theta[0]), math.cos(theta[0])  ]\n",
    "                    ])        \n",
    "    R_y = np.array([[math.cos(theta[1]),    0,      math.sin(theta[1])  ],\n",
    "                    [0,                     1,      0                   ],\n",
    "                    [-math.sin(theta[1]),   0,      math.cos(theta[1])  ]\n",
    "                    ])     \n",
    "    R_z = np.array([[math.cos(theta[2]),    -math.sin(theta[2]),    0],\n",
    "                    [math.sin(theta[2]),    math.cos(theta[2]),     0],\n",
    "                    [0,                     0,                      1]\n",
    "                    ])\n",
    "    R = np.dot(R_z, np.dot( R_y, R_x ))\n",
    "\n",
    "    return R\n",
    "\n",
    "def createHomogenousMatrix(pitch,yaw,roll,x,y,z):\n",
    "    R = eulerAnglesToRotationMatrix([pitch,yaw,roll])\n",
    "    T = np.array([[x,y,z]])\n",
    "    RT = np.hstack((R,T.T))\n",
    "    return np.vstack((RT,[0.0,0.0,0.0,1.0]))"
   ]
  }
 ],
 "metadata": {
  "language_info": {
   "name": "python"
  },
  "orig_nbformat": 4
 },
 "nbformat": 4,
 "nbformat_minor": 2
}
