{
 "cells": [
  {
   "cell_type": "code",
   "execution_count": 2,
   "metadata": {},
   "outputs": [],
   "source": [
    "import json\n",
    "import pyrender\n",
    "import trimesh\n",
    "import matplotlib.pyplot as plt\n",
    "import numpy as np\n",
    "import math"
   ]
  },
  {
   "cell_type": "code",
   "execution_count": 3,
   "metadata": {},
   "outputs": [],
   "source": [
    "def eulerAnglesToRotationMatrix(theta) :\n",
    "    R_x = np.array([[1,         0,                  0                   ],\n",
    "                    [0,         math.cos(theta[0]), -math.sin(theta[0]) ],\n",
    "                    [0,         math.sin(theta[0]), math.cos(theta[0])  ]\n",
    "                    ])        \n",
    "    R_y = np.array([[math.cos(theta[1]),    0,      math.sin(theta[1])  ],\n",
    "                    [0,                     1,      0                   ],\n",
    "                    [-math.sin(theta[1]),   0,      math.cos(theta[1])  ]\n",
    "                    ])     \n",
    "    R_z = np.array([[math.cos(theta[2]),    -math.sin(theta[2]),    0],\n",
    "                    [math.sin(theta[2]),    math.cos(theta[2]),     0],\n",
    "                    [0,                     0,                      1]\n",
    "                    ])\n",
    "    R = np.dot(R_z, np.dot( R_y, R_x ))\n",
    "\n",
    "    return R\n"
   ]
  },
  {
   "cell_type": "code",
   "execution_count": 35,
   "metadata": {},
   "outputs": [
    {
     "data": {
      "image/png": "[encoded data removed]",
      "text/plain": [
       "<Figure size 640x480 with 1 Axes>"
      ]
     },
     "metadata": {},
     "output_type": "display_data"
    }
   ],
   "source": [
    "car_trimesh = trimesh.load('./dazhong.obj')\n",
    "car_trimesh.visual.vertex_colors  = [200, 0, 0, 100]\n",
    "\n",
    "mesh = pyrender.Mesh.from_trimesh(car_trimesh)\n",
    "scene = pyrender.Scene()\n",
    "scene.add(mesh)\n",
    "fx = 2304.5479\n",
    "fy = 2305.8757\n",
    "cx = 1686.2379\n",
    "cy = 1354.9849\n",
    "camera = pyrender.IntrinsicsCamera(fx,fy,cx,cy)\n",
    "s = np.sqrt(2)/2\n",
    "R = eulerAnglesToRotationMatrix([0.0,0.0,np.pi])\n",
    "T = np.array([[0.0,0.0,2.5]])\n",
    "RT = np.hstack((R,T.T))\n",
    "camera_pose = np.vstack((RT,[0.0,0.0,0.0,1.0]))\n",
    "\n",
    "scene.add(camera, pose=camera_pose)\n",
    "light = pyrender.SpotLight(color=np.ones(3), intensity=5.0,\n",
    "                            innerConeAngle=np.pi/16.0,\n",
    "                            outerConeAngle=np.pi/6.0)\n",
    "scene.add(light, pose=camera_pose)\n",
    "\n",
    "r = pyrender.OffscreenRenderer(1480, 640)\n",
    "color, depth = r.render(scene)\n",
    "mask = depth > 0.0\n",
    "mask = np.expand_dims(mask, axis=2)\n",
    "mask = np.concatenate((mask, mask, mask), axis=-1)\n",
    "\n",
    "color = color * mask\n",
    "\n",
    "plt.figure()\n",
    "plt.axis('off')\n",
    "plt.imshow(color)\n",
    "plt.show()"
   ]
  }
 ],
 "metadata": {
  "kernelspec": {
   "display_name": "render",
   "language": "python",
   "name": "python3"
  },
  "language_info": {
   "codemirror_mode": {
    "name": "ipython",
    "version": 3
   },
   "file_extension": ".py",
   "mimetype": "text/x-python",
   "name": "python",
   "nbconvert_exporter": "python",
   "pygments_lexer": "ipython3",
   "version": "3.9.18"
  },
  "orig_nbformat": 4
 },
 "nbformat": 4,
 "nbformat_minor": 2
}
