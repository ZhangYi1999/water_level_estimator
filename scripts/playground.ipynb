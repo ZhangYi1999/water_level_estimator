{
 "cells": [
  {
   "cell_type": "markdown",
   "metadata": {},
   "source": [
    "### Create Metadata json for Apollo Dataset"
   ]
  },
  {
   "cell_type": "code",
   "execution_count": null,
   "metadata": {},
   "outputs": [],
   "source": [
    "APOLLO_CAR_KEYPOINT_NAMES = ['top_left_c_left_front_car_light',\n",
    " 'bottom_left_c_left_front_car_light',\n",
    " 'top_right_c_left_front_car_light',\n",
    " 'bottom_right_c_left_front_car_light',\n",
    " 'top_right_c_left_front_fog_light',\n",
    " 'bottom_right_c_left_front_fog_light',\n",
    " 'front_section_left_front_wheel',\n",
    " 'center_left_front_wheel',\n",
    " 'top_right_c_front_glass',\n",
    " 'top_left_c_left_front_door',\n",
    " 'bottom_left_c_left_front_door',\n",
    " 'top_right_c_left_front_door',\n",
    " 'middle_c_left_front_door',\n",
    " 'front_c_car_handle_left_front_door',\n",
    " 'rear_c_car_handle_left_front_door',\n",
    " 'bottom_right_c_left_front_door',\n",
    " 'top_right_c_left_rear_door',\n",
    " 'front_c_car_handle_left_rear_door',\n",
    " 'rear_c_car_handle_left_rear_door',\n",
    " 'bottom_right_c_left_rear_door',\n",
    " 'center_left_rear_wheel',\n",
    " 'rear_section_left_rear_wheel',\n",
    " 'top_left_c_left_rear_car_light',\n",
    " 'bottom_left_c_left_rear_car_light',\n",
    " 'top_left_c_rear_glass',\n",
    " 'top_right_c_left_rear_car_light',\n",
    " 'bottom_right_c_left_rear_car_light',\n",
    " 'bottom_left_c_trunk',\n",
    " 'Left_c_rear_bumper',\n",
    " 'Right_c_rear_bumper',\n",
    " 'bottom_right_c_trunk',\n",
    " 'bottom_left_c_right_rear_car_light',\n",
    " 'top_left_c_right_rear_car_light',\n",
    " 'top_right_c_rear_glass',\n",
    " 'bottom_right_c_right_rear_car_light',\n",
    " 'top_right_c_right_rear_car_light',\n",
    " 'rear_section_right_rear_wheel',\n",
    " 'center_right_rear_wheel',\n",
    " 'bottom_left_c_right_rear_car_door',\n",
    " 'rear_c_car_handle_right_rear_car_door',\n",
    " 'front_c_car_handle_right_rear_car_door',\n",
    " 'top_left_c_right_rear_car_door',\n",
    " 'bottom_left_c_right_front_car_door',\n",
    " 'rear_c_car_handle_right_front_car_door',\n",
    " 'front_c_car_handle_right_front_car_door',\n",
    " 'middle_c_right_front_car_door',\n",
    " 'top_left_c_right_front_car_door',\n",
    " 'bottom_right_c_right_front_car_door',\n",
    " 'top_right_c_right_front_car_door',\n",
    " 'top_left_c_front_glass',\n",
    " 'center_right_front_wheel',\n",
    " 'front_section_right_front_wheel',\n",
    " 'bottom_left_c_right_fog_light',\n",
    " 'top_left_c_right_fog_light',\n",
    " 'bottom_left_c_right_front_car_light',\n",
    " 'top_left_c_right_front_car_light',\n",
    " 'bottom_right_c_right_front_car_light',\n",
    " 'top_right_c_right_front_car_light',\n",
    " 'top_right_c_front_lplate',\n",
    " 'top_left_c_front_lplate',\n",
    " 'bottom_right_c_front_lplate',\n",
    " 'bottom_left_c_front_lplate',\n",
    " 'top_left_c_rear_lplate',\n",
    " 'top_right_c_rear_lplate',\n",
    " 'bottom_right_c_rear_lplate',\n",
    " 'bottom_left_c_rear_lplate']\n",
    "\n",
    "APOLLO_CAR_KEYPOINT_FLIP_MAP = [('top_left_c_left_front_car_light', 'top_right_c_right_front_car_light'),\n",
    " ('bottom_left_c_left_front_car_light','bottom_right_c_right_front_car_light'),\n",
    " ('top_right_c_left_front_car_light', 'top_left_c_right_front_car_light'),\n",
    " ('bottom_right_c_left_front_car_light','bottom_left_c_right_front_car_light'),\n",
    " ('top_right_c_left_front_fog_light', 'top_left_c_right_fog_light'),\n",
    " ('bottom_right_c_left_front_fog_light', 'bottom_left_c_right_fog_light'),\n",
    " ('front_section_left_front_wheel', 'front_section_right_front_wheel'),\n",
    " ('center_left_front_wheel', 'center_right_front_wheel'),\n",
    " ('top_right_c_front_glass', 'top_left_c_front_glass'),\n",
    " ('top_left_c_left_front_door', 'top_right_c_right_front_car_door'),\n",
    " ('bottom_left_c_left_front_door', 'bottom_right_c_right_front_car_door'),\n",
    " ('top_right_c_left_front_door', 'top_left_c_right_front_car_door'),\n",
    " ('middle_c_left_front_door', 'middle_c_right_front_car_door'),\n",
    " ('front_c_car_handle_left_front_door','front_c_car_handle_right_front_car_door'),\n",
    " ('rear_c_car_handle_left_front_door','rear_c_car_handle_right_front_car_door'),\n",
    " ('bottom_right_c_left_front_door', 'bottom_left_c_right_front_car_door'),\n",
    " ('top_right_c_left_rear_door', 'top_left_c_right_rear_car_door'),\n",
    " ('front_c_car_handle_left_rear_door','front_c_car_handle_right_rear_car_door'),\n",
    " ('rear_c_car_handle_left_rear_door', 'rear_c_car_handle_right_rear_car_door'),\n",
    " ('bottom_right_c_left_rear_door', 'bottom_left_c_right_rear_car_door'),\n",
    " ('center_left_rear_wheel', 'center_right_rear_wheel'),\n",
    " ('rear_section_left_rear_wheel', 'rear_section_right_rear_wheel'),\n",
    " ('top_left_c_left_rear_car_light', 'top_right_c_right_rear_car_light'),\n",
    " ('bottom_left_c_left_rear_car_light', 'bottom_right_c_right_rear_car_light'),\n",
    " ('top_left_c_rear_glass', 'top_right_c_rear_glass'),\n",
    " ('top_right_c_left_rear_car_light', 'top_left_c_right_rear_car_light'),\n",
    " ('bottom_right_c_left_rear_car_light', 'bottom_left_c_right_rear_car_light'),\n",
    " ('bottom_left_c_trunk', 'bottom_right_c_trunk'),\n",
    " ('Left_c_rear_bumper', 'Right_c_rear_bumper'),\n",
    " ('top_left_c_front_lplate', 'top_right_c_front_lplate'),\n",
    " ('bottom_left_c_front_lplate', 'bottom_right_c_front_lplate'),\n",
    " ('top_left_c_rear_lplate', 'top_right_c_rear_lplate'),\n",
    " ('bottom_left_c_rear_lplate', 'bottom_right_c_rear_lplate')]\n",
    "     \n",
    "APOLLO_CAR_KEYPOINT_CONNECTION_RULES = [('top_left_c_front_lplate', 'bottom_left_c_front_lplate', [31, 119, 180]),\n",
    " ('top_left_c_front_lplate','bottom_left_c_left_front_car_light',[174, 199, 232]),\n",
    " ('bottom_left_c_front_lplate','bottom_right_c_left_front_fog_light',[255, 127, 14]),\n",
    " ('top_left_c_left_front_car_light','bottom_left_c_left_front_car_light',[255, 187, 120]),\n",
    " ('top_left_c_left_front_car_light','top_right_c_left_front_car_light',[44, 160, 44]),\n",
    " ('top_right_c_left_front_car_light','bottom_right_c_left_front_car_light',[152, 223, 138]),\n",
    " ('bottom_right_c_left_front_car_light','bottom_left_c_left_front_car_light',[214, 39, 40]),\n",
    " ('bottom_right_c_left_front_car_light','top_right_c_left_front_fog_light',[255, 152, 150]),\n",
    " ('top_right_c_left_front_fog_light','bottom_right_c_left_front_fog_light',[148, 103, 189]),\n",
    " ('bottom_right_c_left_front_fog_light','front_section_left_front_wheel',[197, 176, 213]),\n",
    " ('front_section_left_front_wheel', 'center_left_front_wheel', [140, 86, 75]),\n",
    " ('top_right_c_left_front_fog_light','center_left_front_wheel',[196, 156, 148]),\n",
    " ('top_right_c_left_front_car_light','top_left_c_left_front_door',[227, 119, 194]),\n",
    " ('top_left_c_left_front_door', 'top_right_c_front_glass', [247, 182, 210]),\n",
    " ('top_right_c_front_glass', 'top_right_c_left_front_door', [127, 127, 127]),\n",
    " ('center_left_front_wheel', 'bottom_left_c_left_front_door', [199, 199, 199]),\n",
    " ('front_section_left_front_wheel','bottom_left_c_left_front_door',[188, 189, 34]),\n",
    " ('top_left_c_left_front_door','bottom_left_c_left_front_door',[219, 219, 141]),\n",
    " ('top_right_c_left_front_door', 'middle_c_left_front_door', [23, 190, 207]),\n",
    " ('top_right_c_left_front_door', 'top_left_c_rear_glass', [158, 218, 229]),\n",
    " ('top_left_c_left_front_door', 'middle_c_left_front_door', [31, 119, 180]),\n",
    " ('bottom_left_c_left_front_door','bottom_right_c_left_front_door',[174, 199, 232]),\n",
    " ('middle_c_left_front_door','bottom_right_c_left_front_door',[255, 127, 14]),\n",
    " ('top_left_c_left_front_door','front_c_car_handle_left_front_door',[255, 187, 120]),\n",
    " ('front_c_car_handle_left_front_door','rear_c_car_handle_left_front_door',[44, 160, 44]),\n",
    " ('rear_c_car_handle_left_front_door','middle_c_left_front_door',[152, 223, 138]),\n",
    " ('rear_c_car_handle_left_front_door','bottom_right_c_left_front_door',[214, 39, 40]),\n",
    " ('top_left_c_rear_glass', 'top_right_c_left_rear_door', [255, 152, 150]),\n",
    " ('middle_c_left_front_door', 'top_right_c_left_rear_door', [148, 103, 189]),\n",
    " ('middle_c_left_front_door','front_c_car_handle_left_rear_door',[197, 176, 213]),\n",
    " ('front_c_car_handle_left_rear_door','rear_c_car_handle_left_rear_door',[140, 86, 75]),\n",
    " ('rear_c_car_handle_left_rear_door','top_right_c_left_rear_door',[196, 156, 148]),\n",
    " ('bottom_right_c_left_front_door','bottom_right_c_left_rear_door',[227, 119, 194]),\n",
    " ('bottom_right_c_left_rear_door', 'center_left_rear_wheel', [247, 182, 210]),\n",
    " ('bottom_right_c_left_rear_door','rear_c_car_handle_left_rear_door',[127, 127, 127]),\n",
    " ('center_left_rear_wheel', 'rear_section_left_rear_wheel', [199, 199, 199]),\n",
    " ('top_right_c_left_rear_door','rear_section_left_rear_wheel',[188, 189, 34]),\n",
    " ('top_right_c_left_rear_door','top_left_c_left_rear_car_light',[219, 219, 141]),\n",
    " ('rear_section_left_rear_wheel', 'Left_c_rear_bumper', [23, 190, 207]),\n",
    " ('top_left_c_left_rear_car_light','bottom_left_c_left_rear_car_light',[158, 218, 229]),\n",
    " ('bottom_left_c_left_rear_car_light', 'Left_c_rear_bumper', [31, 119, 180]),\n",
    " ('top_left_c_left_rear_car_light','top_right_c_left_rear_car_light',[174, 199, 232]),\n",
    " ('top_right_c_left_rear_car_light','bottom_right_c_left_rear_car_light',[255, 127, 14]),\n",
    " ('bottom_left_c_left_rear_car_light','bottom_right_c_left_rear_car_light',[255, 187, 120]),\n",
    " ('bottom_right_c_left_rear_car_light', 'bottom_left_c_trunk', [44, 160, 44]),\n",
    " ('top_right_c_left_rear_car_light','top_left_c_rear_lplate',[152, 223, 138]),\n",
    " ('bottom_left_c_trunk', 'bottom_left_c_rear_lplate', [214, 39, 40]),\n",
    " ('top_left_c_rear_lplate', 'bottom_left_c_rear_lplate', [255, 152, 150]),\n",
    " ('Left_c_rear_bumper', 'bottom_left_c_rear_lplate', [148, 103, 189]),\n",
    " ('top_right_c_front_lplate', 'bottom_right_c_front_lplate', [197, 176, 213]),\n",
    " ('top_right_c_front_lplate','bottom_right_c_right_front_car_light',[140, 86, 75]),\n",
    " ('bottom_right_c_front_lplate','bottom_left_c_right_fog_light',[196, 156, 148]),\n",
    " ('top_right_c_right_front_car_light','bottom_right_c_right_front_car_light',[227, 119, 194]),\n",
    " ('top_right_c_right_front_car_light','top_left_c_right_front_car_light',[247, 182, 210]),\n",
    " ('top_left_c_right_front_car_light','bottom_left_c_right_front_car_light',[127, 127, 127]),\n",
    " ('bottom_left_c_right_front_car_light','bottom_right_c_right_front_car_light',[199, 199, 199]),\n",
    " ('bottom_left_c_right_front_car_light','top_left_c_right_fog_light',[188, 189, 34]),\n",
    " ('top_left_c_right_fog_light','bottom_left_c_right_fog_light',[219, 219, 141]),\n",
    " ('bottom_left_c_right_fog_light','front_section_right_front_wheel',[23, 190, 207]),\n",
    " ('front_section_right_front_wheel','center_right_front_wheel',[158, 218, 229]),\n",
    " ('top_left_c_right_fog_light', 'center_right_front_wheel', [31, 119, 180]),\n",
    " ('top_left_c_right_front_car_light','top_right_c_right_front_car_door',[174, 199, 232]),\n",
    " ('top_right_c_right_front_car_door','top_left_c_front_glass',[255, 127, 14]),\n",
    " ('top_left_c_front_glass','top_left_c_right_front_car_door',[255, 187, 120]),\n",
    " ('center_right_front_wheel','bottom_right_c_right_front_car_door',[44, 160, 44]),\n",
    " ('front_section_right_front_wheel','bottom_right_c_right_front_car_door',[152, 223, 138]),\n",
    " ('top_right_c_right_front_car_door','bottom_right_c_right_front_car_door',[214, 39, 40]),\n",
    " ('top_left_c_right_front_car_door','middle_c_right_front_car_door',[255, 152, 150]),\n",
    " ('top_left_c_right_front_car_door','top_right_c_rear_glass',[148, 103, 189]),\n",
    " ('top_right_c_right_front_car_door','middle_c_right_front_car_door',[197, 176, 213]),\n",
    " ('bottom_right_c_right_front_car_door','bottom_left_c_right_front_car_door',[140, 86, 75]),\n",
    " ('middle_c_right_front_car_door','bottom_left_c_right_front_car_door',[196, 156, 148]),\n",
    " ('top_right_c_right_front_car_door','front_c_car_handle_right_front_car_door',[227, 119, 194]),\n",
    " ('front_c_car_handle_right_front_car_door','rear_c_car_handle_right_front_car_door',[247, 182, 210]),\n",
    " ('rear_c_car_handle_right_front_car_door','middle_c_right_front_car_door',[127, 127, 127]),\n",
    " ('rear_c_car_handle_right_front_car_door','bottom_left_c_right_front_car_door',[199, 199, 199]),\n",
    " ('top_right_c_rear_glass', 'top_left_c_right_rear_car_door', [188, 189, 34]),\n",
    " ('middle_c_right_front_car_door','top_left_c_right_rear_car_door',[219, 219, 141]),\n",
    " ('middle_c_right_front_car_door','front_c_car_handle_right_rear_car_door',[23, 190, 207]),\n",
    " ('front_c_car_handle_right_rear_car_door','rear_c_car_handle_right_rear_car_door',[158, 218, 229]),\n",
    " ('rear_c_car_handle_right_rear_car_door','top_left_c_right_rear_car_door',[31, 119, 180]),\n",
    " ('bottom_left_c_right_front_car_door','bottom_left_c_right_rear_car_door',[174, 199, 232]),\n",
    " ('bottom_left_c_right_rear_car_door','center_right_rear_wheel',[255, 127, 14]),\n",
    " ('bottom_left_c_right_rear_car_door','rear_c_car_handle_right_rear_car_door',[255, 187, 120]),\n",
    " ('center_right_rear_wheel', 'rear_section_right_rear_wheel', [44, 160, 44]),\n",
    " ('top_left_c_right_rear_car_door','rear_section_right_rear_wheel',[152, 223, 138]),\n",
    " ('top_left_c_right_rear_car_door','top_right_c_right_rear_car_light',[214, 39, 40]),\n",
    " ('rear_section_right_rear_wheel', 'Right_c_rear_bumper', [255, 152, 150]),\n",
    " ('top_right_c_right_rear_car_light','bottom_right_c_right_rear_car_light',[148, 103, 189]),\n",
    " ('bottom_right_c_right_rear_car_light','Right_c_rear_bumper',[197, 176, 213]),\n",
    " ('top_right_c_right_rear_car_light','top_left_c_right_rear_car_light',[140, 86, 75]),\n",
    " ('top_left_c_right_rear_car_light','bottom_left_c_right_rear_car_light',[196, 156, 148]),\n",
    " ('bottom_right_c_right_rear_car_light','bottom_left_c_right_rear_car_light',[227, 119, 194]),\n",
    " ('bottom_left_c_right_rear_car_light','bottom_right_c_trunk',[247, 182, 210]),\n",
    " ('top_left_c_right_rear_car_light','top_right_c_rear_lplate',[127, 127, 127]),\n",
    " ('bottom_right_c_trunk', 'bottom_right_c_rear_lplate', [199, 199, 199]),\n",
    " ('top_right_c_rear_lplate', 'bottom_right_c_rear_lplate', [188, 189, 34]),\n",
    " ('Right_c_rear_bumper', 'bottom_right_c_rear_lplate', [219, 219, 141]),\n",
    " ('Left_c_rear_bumper', 'Right_c_rear_bumper', [23, 190, 207]),\n",
    " ('top_left_c_rear_lplate', 'top_right_c_rear_lplate', [158, 218, 229]),\n",
    " ('bottom_left_c_rear_lplate', 'bottom_right_c_rear_lplate', [31, 119, 180]),\n",
    " ('top_left_c_rear_glass', 'top_right_c_rear_glass', [174, 199, 232]),\n",
    " ('top_left_c_right_front_car_door','top_right_c_left_front_door',[255, 127, 14]),\n",
    " ('top_right_c_right_front_car_door','top_left_c_left_front_door',[255, 187, 120]),\n",
    " ('top_left_c_front_lplate', 'top_right_c_front_lplate', [44, 160, 44]),\n",
    " ('bottom_right_c_front_lplate','bottom_left_c_front_lplate',[152, 223, 138]),\n",
    " ('top_left_c_left_front_car_light','top_right_c_right_front_car_light',[214, 39, 40]),\n",
    " ('top_left_c_front_glass', 'top_right_c_front_glass', [255, 152, 150])]\n",
    "\n",
    "import json\n",
    "\n",
    "apollo_metadata_dict={'APOLLO_CAR_KEYPOINT_NAMES':APOLLO_CAR_KEYPOINT_NAMES,\n",
    "'APOLLO_CAR_KEYPOINT_FLIP_MAP':APOLLO_CAR_KEYPOINT_FLIP_MAP,\n",
    "'APOLLO_CAR_KEYPOINT_CONNECTION_RULES':APOLLO_CAR_KEYPOINT_CONNECTION_RULES}\n",
    "\n",
    "with open(\"./configs/apollo_meta.json\", 'w') as write_f:\n",
    "\twrite_f.write(json.dumps(apollo_metadata_dict,indent=2))"
   ]
  },
  {
   "cell_type": "markdown",
   "metadata": {},
   "source": [
    "### Others"
   ]
  },
  {
   "cell_type": "code",
   "execution_count": 36,
   "metadata": {},
   "outputs": [],
   "source": [
    "import torch\n",
    "import pickle\n",
    "\n",
    "gsnet_datas = torch.load(\"./models/gsnet/model_final.pth\")\n",
    "gsnet_model = gsnet_datas['model']\n",
    "\n",
    "with open(\"./models/mrcnn/model_final_a3ec72.pkl\",'rb') as f:\n",
    "    maskrcnn_datas=pickle.load(f)\n",
    "maskrcnn_model = maskrcnn_datas['model']"
   ]
  },
  {
   "cell_type": "code",
   "execution_count": 45,
   "metadata": {},
   "outputs": [],
   "source": [
    "import copy\n",
    "waterlevel_model = copy.deepcopy(maskrcnn_model)\n",
    "\n",
    "first_title = 'roi_heads.keypoint_head.'\n",
    "second_titles = ['conv_fcn1.','conv_fcn2.','conv_fcn3.','conv_fcn4.',\n",
    "                 'conv_fcn5.','conv_fcn6.','conv_fcn7.','conv_fcn8.','score_lowres.']\n",
    "third_titles = ['weight','bias']\n",
    "\n",
    "for second_title in second_titles:\n",
    "    for third_title in third_titles:\n",
    "        title = first_title+second_title+third_title\n",
    "        waterlevel_model[title] = gsnet_model[title].cpu().data.numpy()\n",
    "\n",
    "waterlevel_datas = {}\n",
    "waterlevel_datas['model'] = waterlevel_model\n",
    "waterlevel_datas['__author__'] = 'Yi Zhang'\n",
    "\n",
    "with open('./models/water_level/waterlevel_model.pkl', 'wb') as output:\n",
    "    pickle.dump(waterlevel_datas, output)\n"
   ]
  },
  {
   "cell_type": "code",
   "execution_count": 41,
   "metadata": {},
   "outputs": [
    {
     "data": {
      "text/plain": [
       "numpy.ndarray"
      ]
     },
     "execution_count": 41,
     "metadata": {},
     "output_type": "execute_result"
    }
   ],
   "source": [
    "type(maskrcnn_model['backbone.fpn_lateral2.weight'])"
   ]
  },
  {
   "cell_type": "code",
   "execution_count": 42,
   "metadata": {},
   "outputs": [
    {
     "data": {
      "text/plain": [
       "torch.Tensor"
      ]
     },
     "execution_count": 42,
     "metadata": {},
     "output_type": "execute_result"
    }
   ],
   "source": [
    "type(gsnet_model['backbone.fpn_lateral2.weight'])"
   ]
  },
  {
   "cell_type": "code",
   "execution_count": 11,
   "metadata": {},
   "outputs": [
    {
     "data": {
      "text/plain": [
       "True"
      ]
     },
     "execution_count": 11,
     "metadata": {},
     "output_type": "execute_result"
    }
   ],
   "source": [
    "import cv2\n",
    "\n",
    "image_name = \"sample.jpg\"\n",
    "\n",
    "img = cv2.imread(\"./images/\"+image_name)\n",
    "height,width,channel = img.shape\n",
    "\n",
    "default_size = 512\n",
    "max_side = max(height,width)\n",
    "scale = default_size / max_side\n",
    "\n",
    "new_shape = (int(width*scale), int(height*scale))\n",
    "\n",
    "resized_img = cv2.resize(img,new_shape)\n",
    "\n",
    "cv2.imwrite(\"./images/\"+image_name+\"_resized.jpg\",resized_img)"
   ]
  },
  {
   "cell_type": "code",
   "execution_count": 4,
   "metadata": {},
   "outputs": [
    {
     "data": {
      "text/plain": [
       "3295"
      ]
     },
     "execution_count": 4,
     "metadata": {},
     "output_type": "execute_result"
    }
   ],
   "source": [
    "max_side"
   ]
  }
 ],
 "metadata": {
  "kernelspec": {
   "display_name": "waterlevel",
   "language": "python",
   "name": "python3"
  },
  "language_info": {
   "codemirror_mode": {
    "name": "ipython",
    "version": 3
   },
   "file_extension": ".py",
   "mimetype": "text/x-python",
   "name": "python",
   "nbconvert_exporter": "python",
   "pygments_lexer": "ipython3",
   "version": "3.8.13"
  },
  "orig_nbformat": 4
 },
 "nbformat": 4,
 "nbformat_minor": 2
}
