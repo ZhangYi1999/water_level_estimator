{
 "cells": [
  {
   "cell_type": "code",
   "execution_count": 2,
   "metadata": {},
   "outputs": [],
   "source": [
    "import cv2\n",
    "from enum import Enum\n",
    "import numpy as np\n",
    "from PIL import Image\n",
    "import matplotlib.pyplot as plt \n",
    "import matplotlib.patches as patches\n",
    "import json\n",
    "import os\n",
    "\n",
    "def calculate_ground_truth_iou(detect_box,ground_truth_box):\n",
    "    xmin1, ymin1, xmax1, ymax1 = detect_box\n",
    "    xmin2, ymin2, xmax2, ymax2 = ground_truth_box\n",
    "    x_overlap = max(0, min(xmax1, xmax2) - max(xmin1, xmin2))\n",
    "    y_overlap = max(0, min(ymax1, ymax2) - max(ymin1, ymin2))\n",
    "    intersection = x_overlap * y_overlap\n",
    "    union = (xmax1 - xmin1) * (ymax1 - ymin1) + (xmax2 - xmin2) * (ymax2 - ymin2) - intersection\n",
    "    return float(intersection) / union\n",
    "label_folder = \"../images/labels/\"\n",
    "image_folder = \"../images/Flood/\"\n",
    "keypoint_result_folder = \"../result_keypoint/\"\n",
    "mask_result_folder = \"../result_mask/\"\n",
    "project_result_folder = \"../result_project/\"\n",
    "\n",
    "file_names = os.listdir(image_folder)\n",
    "\n",
    "ground_truth_waterlevels = []\n",
    "predicted_waterlevels = []\n",
    "waterlevel_errors = []\n",
    "\n",
    "for image_name in file_names:\n",
    "    \n",
    "    base_name = os.path.splitext(image_name)[0]\n",
    "    single_folder = project_result_folder+base_name+\"/\"\n",
    "    label_name = base_name+\".json\"\n",
    "\n",
    "    with open(single_folder+base_name+\".json\") as file:\n",
    "        data = json.load(file)\n",
    "        cars_data = data[\"cars\"]\n",
    "\n",
    "    with open(label_folder+label_name) as file:\n",
    "        data = json.load(file)\n",
    "        ground_truth = data['objects']\n",
    "\n",
    "    for car in cars_data:\n",
    "        box = car['box']\n",
    "        \n",
    "\n",
    "        max_iou = 0\n",
    "        found = False\n",
    "        for gt in ground_truth:\n",
    "            iou = calculate_ground_truth_iou(box,gt['bbox'])\n",
    "            if iou > max_iou:\n",
    "                max_iou = iou\n",
    "                the_gt = gt\n",
    "                found = True\n",
    "        if found: \n",
    "            ground_truth.remove(the_gt)\n",
    "            pred_wl = car['water_level']\n",
    "            gt_wl = int(the_gt['water_level']) / 100\n",
    "            predicted_waterlevels.append(pred_wl)\n",
    "            ground_truth_waterlevels.append(gt_wl)\n",
    "            waterlevel_errors.append(abs(pred_wl-gt_wl))"
   ]
  },
  {
   "cell_type": "code",
   "execution_count": 13,
   "metadata": {},
   "outputs": [],
   "source": [
    "group_0 = []\n",
    "group_1 = []\n",
    "group_2 = []\n",
    "group_3 = []\n",
    "group_4 = []\n",
    "for pred_wl,gt_wl,err in zip(predicted_waterlevels,ground_truth_waterlevels,waterlevel_errors):\n",
    "    if gt_wl < 0.2:\n",
    "        group_0.append(err)\n",
    "    elif gt_wl < 0.4:\n",
    "        group_1.append(err)\n",
    "    elif gt_wl < 0.6:\n",
    "        group_2.append(err)\n",
    "    elif gt_wl < 0.8:\n",
    "        group_3.append(err)\n",
    "    else:\n",
    "        group_4.append(err)\n"
   ]
  },
  {
   "cell_type": "code",
   "execution_count": 14,
   "metadata": {},
   "outputs": [],
   "source": [
    "means = [sum(group_0) / len(group_0),\\\n",
    "        sum(group_1) / len(group_1),\\\n",
    "        sum(group_2) / len(group_2),\\\n",
    "        sum(group_3) / len(group_3),\\\n",
    "        sum(group_4) / len(group_4)]\n",
    "\n",
    "counts = [len(group_0),len(group_1),len(group_2),len(group_3),len(group_4)]"
   ]
  },
  {
   "cell_type": "code",
   "execution_count": 25,
   "metadata": {},
   "outputs": [
    {
     "data": {
      "text/plain": [
       "[0.07318681318681317,\n",
       " 0.2773333333333333,\n",
       " 0.47000000000000003,\n",
       " 0.6693749999999999,\n",
       " 0.975]"
      ]
     },
     "execution_count": 25,
     "metadata": {},
     "output_type": "execute_result"
    }
   ],
   "source": [
    "means"
   ]
  },
  {
   "cell_type": "code",
   "execution_count": 26,
   "metadata": {},
   "outputs": [
    {
     "data": {
      "text/plain": [
       "[91, 30, 9, 16, 6]"
      ]
     },
     "execution_count": 26,
     "metadata": {},
     "output_type": "execute_result"
    }
   ],
   "source": [
    "counts"
   ]
  },
  {
   "cell_type": "code",
   "execution_count": 28,
   "metadata": {},
   "outputs": [],
   "source": [
    "group_0 = []\n",
    "group_1 = []\n",
    "group_2 = []\n",
    "group_3 = []\n",
    "group_4 = []\n",
    "group_5 = []\n",
    "for pred_wl,gt_wl,err in zip(predicted_waterlevels,ground_truth_waterlevels,waterlevel_errors):\n",
    "    if err < 0.1:\n",
    "        group_0.append(err)\n",
    "    elif err < 0.2:\n",
    "        group_1.append(err)\n",
    "    elif err < 0.3:\n",
    "        group_2.append(err)\n",
    "    elif err < 0.4:\n",
    "        group_3.append(err)\n",
    "    elif err < 0.5:\n",
    "        group_4.append(err)\n",
    "    else:\n",
    "        group_5.append(err)"
   ]
  },
  {
   "cell_type": "code",
   "execution_count": 29,
   "metadata": {},
   "outputs": [],
   "source": [
    "counts = [len(group_0),len(group_1),len(group_2),len(group_3),len(group_4),len(group_5)]"
   ]
  },
  {
   "cell_type": "code",
   "execution_count": 39,
   "metadata": {},
   "outputs": [
    {
     "data": {
      "image/png": "[encoded data removed]",
      "text/plain": [
       "<Figure size 640x480 with 1 Axes>"
      ]
     },
     "metadata": {},
     "output_type": "display_data"
    }
   ],
   "source": [
    "plt.figure()\n",
    "plt.grid(axis='y')\n",
    "plt.bar(range(len(counts)), counts,0.9,fc='coral')\n",
    "plt.xlabel('Water level average difference')\n",
    "plt.ylabel('Number of the cars')\n",
    "plt.xticks(range(len(counts)),['[0.0,0.1)','[0.1,0.2)','[0.2,0.3)','[0.3,0.4)','[0.4,0.5)','[0.5,inf)'])\n",
    "plt.yticks(np.arange(0, 100, 10))\n",
    "plt.savefig(\"../result/plot.jpg\",dpi=200,pad_inches=0.0)"
   ]
  }
 ],
 "metadata": {
  "kernelspec": {
   "display_name": "Hiwi",
   "language": "python",
   "name": "python3"
  },
  "language_info": {
   "codemirror_mode": {
    "name": "ipython",
    "version": 3
   },
   "file_extension": ".py",
   "mimetype": "text/x-python",
   "name": "python",
   "nbconvert_exporter": "python",
   "pygments_lexer": "ipython3",
   "version": "3.8.13"
  }
 },
 "nbformat": 4,
 "nbformat_minor": 2
}
