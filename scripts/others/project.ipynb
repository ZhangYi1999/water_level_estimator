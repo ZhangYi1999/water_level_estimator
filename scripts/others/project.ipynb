{
 "cells": [
  {
   "cell_type": "code",
   "execution_count": 3,
   "metadata": {},
   "outputs": [],
   "source": [
    "import PIL\n",
    "import numpy as np\n",
    "import torch\n",
    "import matplotlib.pyplot as plt\n",
    "\n",
    "import os\n",
    "import json\n",
    "\n",
    "import cv2"
   ]
  },
  {
   "cell_type": "code",
   "execution_count": 4,
   "metadata": {},
   "outputs": [],
   "source": [
    "KPS_MAPPING = [49, 8, 57, 0, 52, 5, 11, 7, 20, 23, 24, 33, 25, 32, 28,\n",
    "               29, 46, 34, 37, 50, 65, 64, 9, 48]\n",
    "\n",
    "with open(\"../mesh/baoshijie-kayan_keypts.txt\",\"r\") as file:\n",
    "    kpts_66 = []\n",
    "    \n",
    "    for line in file.readlines():\n",
    "        line = line.strip('\\n')  #去掉列表中每一个元素的换行符\n",
    "        x,y,score = line.split()\n",
    "        kpts_66.append(line.split())\n",
    "\n",
    "with open(\"../mesh/baoshijie-kayan_24keypts.txt\",\"w\") as file:\n",
    "    kpts_66_ndarray = np.array(kpts_66)\n",
    "    kpts_24_ndarray = kpts_66_ndarray[KPS_MAPPING]\n",
    "    kpts_24 = kpts_24_ndarray.tolist()\n",
    "\n",
    "    for kpt in kpts_24:\n",
    "        file.write(f\"{kpt[0]} {kpt[1]} {kpt[2]}\\n\")"
   ]
  },
  {
   "cell_type": "code",
   "execution_count": 33,
   "metadata": {},
   "outputs": [],
   "source": [
    "image_folder=\"./images/\"\n",
    "image_name = \"sample.jpg\"\n",
    "\n",
    "kp_threshold = 0.1\n",
    "\n",
    "pil_im = PIL.Image.open(image_folder+image_name).convert('RGB')\n",
    "\n",
    "\n",
    "fx = 2304.5479\n",
    "fy = 2305.8757\n",
    "cx = 1686.2379\n",
    "cy = 1354.9849\n",
    "camera_matrix = np.array([[fx,0,  cx],\n",
    "                          [0, fy, cy],\n",
    "                          [0, 0,  1]], dtype=np.float32)\n",
    "\n",
    "dist_coeffs = np.zeros((4, 1)) "
   ]
  },
  {
   "cell_type": "code",
   "execution_count": 3,
   "metadata": {},
   "outputs": [],
   "source": [
    "\n",
    "os.system(\"python -m openpifpaf.predict \" + image_folder + image_name + \\\n",
    "  \" --checkpoint=shufflenetv2k16-apollo-24 --json-output ./json \\\n",
    "  --instance-threshold 0.05 --seed-threshold 0.05 \\\n",
    "  --line-width 4 --font-size 0\")\n",
    "\n",
    "with open(\"./json/\"+image_name+\".predictions.json\") as file:\n",
    "    vehicles = json.load(file)"
   ]
  },
  {
   "cell_type": "code",
   "execution_count": null,
   "metadata": {},
   "outputs": [],
   "source": [
    "keypoint_list"
   ]
  },
  {
   "cell_type": "code",
   "execution_count": 46,
   "metadata": {},
   "outputs": [
    {
     "data": {
      "text/plain": [
       "[[1710.09, 780.16],\n",
       " [1597.91, 918.48],\n",
       " [1712.12, 965.97],\n",
       " [1755.12, 912.15],\n",
       " [1758.08, 786.36],\n",
       " [1901.88, 785.46],\n",
       " [1806.89, 882.64],\n",
       " [1629.49, 840.18]]"
      ]
     },
     "execution_count": 46,
     "metadata": {},
     "output_type": "execute_result"
    }
   ],
   "source": [
    "first_car = vehicles[2]\n",
    "\n",
    "keypoint_list = first_car['keypoints']\n",
    "\n",
    "visable_index = []\n",
    "visable_keypoints_2D = []\n",
    "\n",
    "for i in range(0,24):\n",
    "    x = keypoint_list[i*3]\n",
    "    y = keypoint_list[i*3+1]\n",
    "    score = keypoint_list[i*3+2]\n",
    "\n",
    "    if(score > kp_threshold):\n",
    "        visable_index.append(i)\n",
    "        visable_keypoints_2D.append([x,y])\n",
    "\n",
    "visable_keypoints_2D"
   ]
  },
  {
   "cell_type": "code",
   "execution_count": 47,
   "metadata": {},
   "outputs": [
    {
     "data": {
      "text/plain": [
       "[['-0.64906948', '-0.61638962', '-0.16350945'],\n",
       " ['-0.78735706', '0.34957592', '1.43293312'],\n",
       " ['-0.78735706', '0.34957607', '-1.30198021'],\n",
       " ['-0.80440891', '-0.15282092', '-1.92037194'],\n",
       " ['-0.60184902', '-0.53747243', '-1.28940911'],\n",
       " ['0.60395638', '-0.53739655', '-1.28956475'],\n",
       " ['-0.58979885', '-0.24539752', '-2.23300560'],\n",
       " ['-0.80719463', '-0.21388827', '0.93815147']]"
      ]
     },
     "execution_count": 47,
     "metadata": {},
     "output_type": "execute_result"
    }
   ],
   "source": [
    "with open(\"./mesh/dazhong_24keypts.txt\") as file:\n",
    "    keypoints_3D_24 = []\n",
    "    \n",
    "    for line in file.readlines():\n",
    "        line = line.strip('\\n')  #去掉列表中每一个元素的换行符\n",
    "        x,y,score = line.split()\n",
    "        keypoints_3D_24.append(line.split())\n",
    "\n",
    "keypoints_3D_24_ndarray = np.array(keypoints_3D_24)\n",
    "visable_keypoints_3D = keypoints_3D_24_ndarray[visable_index].tolist()\n",
    "\n",
    "visable_keypoints_3D"
   ]
  },
  {
   "cell_type": "code",
   "execution_count": 48,
   "metadata": {},
   "outputs": [],
   "source": [
    "\n",
    "\n",
    "objPoints = np.array(visable_keypoints_3D,dtype='float64')\n",
    "imgPoints = np.array(visable_keypoints_2D,dtype='float64')\n",
    "\n",
    "(_, rotation_vector, translation_vector) = cv2.solvePnP(objPoints,\n",
    "                                                        imgPoints,\n",
    "                                                        camera_matrix,\n",
    "                                                        dist_coeffs,\n",
    "                                                        useExtrinsicGuess=False,flags=cv2.SOLVEPNP_UPNP\n",
    "                                                        )"
   ]
  },
  {
   "cell_type": "code",
   "execution_count": 49,
   "metadata": {},
   "outputs": [
    {
     "data": {
      "text/plain": [
       "array([[ 0.30603494],\n",
       "       [-0.2410071 ],\n",
       "       [-0.09093339]])"
      ]
     },
     "execution_count": 49,
     "metadata": {},
     "output_type": "execute_result"
    }
   ],
   "source": [
    "rotation_vector"
   ]
  },
  {
   "cell_type": "code",
   "execution_count": 50,
   "metadata": {},
   "outputs": [
    {
     "data": {
      "text/plain": [
       "array([[ 0.59826905],\n",
       "       [-2.8863501 ],\n",
       "       [13.8660819 ]])"
      ]
     },
     "execution_count": 50,
     "metadata": {},
     "output_type": "execute_result"
    }
   ],
   "source": [
    "translation_vector"
   ]
  },
  {
   "cell_type": "code",
   "execution_count": 51,
   "metadata": {},
   "outputs": [],
   "source": [
    "with open(\"./mesh/dazhong.json\") as json_file:\n",
    "        car_model = json.load(json_file)\n",
    "\n",
    "vertices = np.array(car_model['vertices'])  # x: w y: h z: l\n",
    "triangles = np.array(car_model['faces']) - 1\n",
    "\n",
    "\n",
    "(projected_point2D_model, jacobian_model) = cv2.projectPoints(vertices, rotation_vector, translation_vector,camera_matrix, dist_coeffs)"
   ]
  },
  {
   "cell_type": "code",
   "execution_count": 52,
   "metadata": {},
   "outputs": [
    {
     "data": {
      "text/plain": [
       "True"
      ]
     },
     "execution_count": 52,
     "metadata": {},
     "output_type": "execute_result"
    }
   ],
   "source": [
    "def draw_obj(image, vertices, triangles, color):\n",
    "    for t in triangles:\n",
    "        coord = np.array(\n",
    "            [vertices[t[0]][:2], vertices[t[1]][:2],\n",
    "                vertices[t[2]][:2]], dtype=np.int32\n",
    "        )\n",
    "        cv2.polylines(image, np.int32([coord]), 1, color)\n",
    "        \n",
    "def draw_obj_mask(image, vertices, triangles, color):\n",
    "    for t in triangles:\n",
    "        coord = np.array(\n",
    "            [vertices[t[0]][:2], vertices[t[1]][:2],\n",
    "                vertices[t[2]][:2]], dtype=np.int32\n",
    "        )\n",
    "        cv2.fillPoly(image, np.int32([coord]),  color)\n",
    "\n",
    "im = np.asarray(pil_im)\n",
    "im = cv2.cvtColor(im,cv2.COLOR_BGR2RGB)\n",
    "draw_obj(im,projected_point2D_model,triangles,(0, 125, 255))\n",
    "\n",
    "cv2.imwrite(\"draw_obj.jpg\",im)"
   ]
  }
 ],
 "metadata": {
  "kernelspec": {
   "display_name": "Hiwi",
   "language": "python",
   "name": "python3"
  },
  "language_info": {
   "codemirror_mode": {
    "name": "ipython",
    "version": 3
   },
   "file_extension": ".py",
   "mimetype": "text/x-python",
   "name": "python",
   "nbconvert_exporter": "python",
   "pygments_lexer": "ipython3",
   "version": "3.8.13"
  },
  "orig_nbformat": 4
 },
 "nbformat": 4,
 "nbformat_minor": 2
}
