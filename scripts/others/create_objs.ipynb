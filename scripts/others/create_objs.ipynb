{
 "cells": [
  {
   "cell_type": "code",
   "execution_count": 5,
   "metadata": {},
   "outputs": [],
   "source": [
    "import trimesh\n",
    "import json\n",
    "import os\n",
    "import numpy as np\n",
    "\n",
    "from car_models import car_id2name, car_name2id, models\n",
    "\n",
    "file_names = os.listdir(\"../car_models_json/\")\n",
    "\n",
    "for file_name in file_names:\n",
    "    with open(\"../car_models_json/\"+file_name,\"r\") as json_file:\n",
    "        car_model = json.load(json_file)\n",
    "        vertices = np.array(car_model['vertices'])\n",
    "        vertices[:,1] = vertices[:,1]*-1\n",
    "        faces_array = np.array(car_model['faces']) - 1\n",
    "        faces = faces_array.tolist()\n",
    "\n",
    "        car_name = os.path.splitext(file_name)[0]\n",
    "\n",
    "        car_trimesh = trimesh.Trimesh(vertices = vertices, faces = faces)\n",
    "        car_trimesh.export(\"../car_models_obj/\"+car_name+\".obj\")"
   ]
  },
  {
   "cell_type": "code",
   "execution_count": 16,
   "metadata": {},
   "outputs": [],
   "source": [
    "import trimesh\n",
    "import json\n",
    "import os\n",
    "import numpy as np\n",
    "\n",
    "x_bot = 0\n",
    "y_bot = 0\n",
    "with open(\"../mesh/dazhong.json\",\"r\") as json_file:\n",
    "    car_model = json.load(json_file)\n",
    "    vertices = np.array(car_model['vertices'])\n",
    "    vertices[:,0] = vertices[:,0] * -1\n",
    "    x_bot = vertices[:,0].min()\n",
    "    vertices[:,0] = vertices[:,0] - x_bot\n",
    "    vertices[:,1] = vertices[:,1] * -1\n",
    "    y_bot = vertices[:,1].min()\n",
    "    vertices[:,1] = vertices[:,1] - y_bot\n",
    "    \n",
    "    faces_array = np.array(car_model['faces']) - 1\n",
    "    faces = faces_array.tolist()\n",
    "    car_trimesh = trimesh.Trimesh(vertices = vertices, faces = faces)\n",
    "    car_trimesh.export(\"../mesh/sedan.obj\")\n",
    "    \n",
    "with open(\"../mesh/sedan.json\",\"w\") as file:\n",
    "    car_model['vertices'] = vertices.tolist()\n",
    "    car_model['faces'] = faces\n",
    "    file.write(json.dumps(car_model))"
   ]
  },
  {
   "cell_type": "code",
   "execution_count": 17,
   "metadata": {},
   "outputs": [],
   "source": [
    "with open(\"../mesh/dazhong_keypts.txt\") as file:\n",
    "    keypoints_list = []\n",
    "    \n",
    "    for line in file.readlines():\n",
    "        line = line.strip('\\n')\n",
    "        x,y,z = line.split()\n",
    "        keypoints_list.append([float(x)*-1-x_bot,float(y)*-1-y_bot,float(z)])\n",
    "\n",
    "with open(\"../mesh/sedan_keypts.txt\",\"w\") as file:\n",
    "    for kpt in keypoints_list:\n",
    "        file.write(f\"{kpt[0]} {kpt[1]} {kpt[2]}\\n\")"
   ]
  }
 ],
 "metadata": {
  "kernelspec": {
   "display_name": "Hiwi",
   "language": "python",
   "name": "python3"
  },
  "language_info": {
   "codemirror_mode": {
    "name": "ipython",
    "version": 3
   },
   "file_extension": ".py",
   "mimetype": "text/x-python",
   "name": "python",
   "nbconvert_exporter": "python",
   "pygments_lexer": "ipython3",
   "version": "3.8.13"
  },
  "orig_nbformat": 4
 },
 "nbformat": 4,
 "nbformat_minor": 2
}
